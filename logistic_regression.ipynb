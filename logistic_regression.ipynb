{
 "cells": [
  {
   "cell_type": "markdown",
   "metadata": {
    "id": "02zG8NN9r8yQ"
   },
   "source": [
    "# In this task we are going to perform a classification task.\n",
    "\n",
    "# The data contains the exam 1 and exam 2 scores of the student, and if they are admitted or not.\n",
    "\n",
    "# The task is to classify whether the student will be admitted or not based on the exam 1 and exam 2 score."
   ]
  },
  {
   "cell_type": "code",
   "execution_count": 2,
   "metadata": {
    "colab": {
     "base_uri": "https://localhost:8080/",
     "height": 74
    },
    "id": "NoS8_NPnmArn",
    "outputId": "ec627a2b-e066-41a4-90e3-99f8a90308ba"
   },
   "outputs": [],
   "source": [
    "#from google.colab import files\n",
    "#uploaded = files.upload()"
   ]
  },
  {
   "cell_type": "markdown",
   "metadata": {
    "id": "LHRcyA9TsnPn"
   },
   "source": [
    "Import the lbraries"
   ]
  },
  {
   "cell_type": "code",
   "execution_count": 3,
   "metadata": {
    "id": "39TG1dJ9lp9Q"
   },
   "outputs": [],
   "source": [
    "# Your code to important Libraries - You need to import multiple libraries.\n",
    "from scipy import optimize\n",
    "import matplotlib\n",
    "import matplotlib.pyplot as plt\n",
    "import numpy as np\n",
    "import pandas as pd\n",
    "%matplotlib inline"
   ]
  },
  {
   "cell_type": "markdown",
   "metadata": {
    "id": "YVPo8K5Btoxj"
   },
   "source": [
    "# Read the data and split it into X and y.\n",
    "\n",
    "# X is the exam scores and y is the binary variable to determine if a student is admitted or not.\n",
    "\n"
   ]
  },
  {
   "cell_type": "code",
   "execution_count": 4,
   "metadata": {
    "id": "EhBcgTPSlzil"
   },
   "outputs": [],
   "source": [
    "data = np.loadtxt(\"ex2data1.txt\", delimiter=',')  # Note - The data is read using numpy rather than pandas.\n",
    "X = data[:, [0, 1]]\n",
    "y = data[:, 2]"
   ]
  },
  {
   "cell_type": "markdown",
   "metadata": {
    "id": "moqNTJIUuP1Q"
   },
   "source": [
    "# Print some samples of the input X"
   ]
  },
  {
   "cell_type": "code",
   "execution_count": 5,
   "metadata": {
    "id": "9sk7wBFimyDQ"
   },
   "outputs": [
    {
     "name": "stdout",
     "output_type": "stream",
     "text": [
      "[[34.62365962 78.02469282]\n",
      " [30.28671077 43.89499752]\n",
      " [35.84740877 72.90219803]\n",
      " [60.18259939 86.3085521 ]\n",
      " [79.03273605 75.34437644]\n",
      " [45.08327748 56.31637178]\n",
      " [61.10666454 96.51142588]\n",
      " [75.02474557 46.55401354]\n",
      " [76.0987867  87.42056972]\n",
      " [84.43281996 43.53339331]\n",
      " [95.86155507 38.22527806]\n",
      " [75.01365839 30.60326323]\n",
      " [82.30705337 76.4819633 ]\n",
      " [69.36458876 97.71869196]\n",
      " [39.53833914 76.03681085]\n",
      " [53.97105215 89.20735014]\n",
      " [69.07014406 52.74046973]\n",
      " [67.94685548 46.67857411]\n",
      " [70.66150955 92.92713789]\n",
      " [76.97878373 47.57596365]\n",
      " [67.37202755 42.83843832]\n",
      " [89.67677575 65.79936593]\n",
      " [50.53478829 48.85581153]\n",
      " [34.21206098 44.2095286 ]\n",
      " [77.92409145 68.97235999]\n",
      " [62.27101367 69.95445795]\n",
      " [80.19018075 44.82162893]\n",
      " [93.1143888  38.80067034]\n",
      " [61.83020602 50.25610789]\n",
      " [38.7858038  64.99568096]\n",
      " [61.37928945 72.80788731]\n",
      " [85.40451939 57.05198398]\n",
      " [52.10797973 63.12762377]\n",
      " [52.04540477 69.43286012]\n",
      " [40.23689374 71.16774802]\n",
      " [54.63510555 52.21388588]\n",
      " [33.91550011 98.86943574]\n",
      " [64.17698887 80.90806059]\n",
      " [74.78925296 41.57341523]\n",
      " [34.18364003 75.23772034]\n",
      " [83.90239366 56.30804622]\n",
      " [51.54772027 46.85629026]\n",
      " [94.44336777 65.56892161]\n",
      " [82.36875376 40.61825516]\n",
      " [51.04775177 45.82270146]\n",
      " [62.22267576 52.06099195]\n",
      " [77.19303493 70.4582    ]\n",
      " [97.77159928 86.72782233]\n",
      " [62.0730638  96.76882412]\n",
      " [91.5649745  88.69629255]\n",
      " [79.94481794 74.16311935]\n",
      " [99.27252693 60.999031  ]\n",
      " [90.54671411 43.39060181]\n",
      " [34.52451385 60.39634246]\n",
      " [50.28649612 49.80453881]\n",
      " [49.58667722 59.80895099]\n",
      " [97.64563396 68.86157272]\n",
      " [32.57720017 95.59854761]\n",
      " [74.24869137 69.82457123]\n",
      " [71.79646206 78.45356225]\n",
      " [75.39561147 85.75993667]\n",
      " [35.28611282 47.02051395]\n",
      " [56.2538175  39.26147251]\n",
      " [30.05882245 49.59297387]\n",
      " [44.66826172 66.45008615]\n",
      " [66.56089447 41.09209808]\n",
      " [40.45755098 97.53518549]\n",
      " [49.07256322 51.88321182]\n",
      " [80.27957401 92.11606081]\n",
      " [66.74671857 60.99139403]\n",
      " [32.72283304 43.30717306]\n",
      " [64.03932042 78.03168802]\n",
      " [72.34649423 96.22759297]\n",
      " [60.45788574 73.0949981 ]\n",
      " [58.84095622 75.85844831]\n",
      " [99.8278578  72.36925193]\n",
      " [47.26426911 88.475865  ]\n",
      " [50.4581598  75.80985953]\n",
      " [60.45555629 42.50840944]\n",
      " [82.22666158 42.71987854]\n",
      " [88.91389642 69.8037889 ]\n",
      " [94.83450672 45.6943068 ]\n",
      " [67.31925747 66.58935318]\n",
      " [57.23870632 59.51428198]\n",
      " [80.366756   90.9601479 ]\n",
      " [68.46852179 85.5943071 ]\n",
      " [42.07545454 78.844786  ]\n",
      " [75.47770201 90.424539  ]\n",
      " [78.63542435 96.64742717]\n",
      " [52.34800399 60.76950526]\n",
      " [94.09433113 77.15910509]\n",
      " [90.44855097 87.50879176]\n",
      " [55.48216114 35.57070347]\n",
      " [74.49269242 84.84513685]\n",
      " [89.84580671 45.35828361]\n",
      " [83.48916274 48.3802858 ]\n",
      " [42.26170081 87.10385094]\n",
      " [99.31500881 68.77540947]\n",
      " [55.34001756 64.93193801]\n",
      " [74.775893   89.5298129 ]]\n"
     ]
    }
   ],
   "source": [
    "# Your code to print samples of X\n",
    "print(X)"
   ]
  },
  {
   "cell_type": "markdown",
   "metadata": {
    "id": "mgoGTU5hueID"
   },
   "source": [
    "# Print some samples of the output y"
   ]
  },
  {
   "cell_type": "code",
   "execution_count": 6,
   "metadata": {
    "id": "nemy2Qzmm0xQ"
   },
   "outputs": [
    {
     "name": "stdout",
     "output_type": "stream",
     "text": [
      "[0. 0. 0. 1. 1. 0. 1. 1. 1. 1. 0. 0. 1. 1. 0. 1. 1. 0. 1. 1. 0. 1. 0. 0.\n",
      " 1. 1. 1. 0. 0. 0. 1. 1. 0. 1. 0. 0. 0. 1. 0. 0. 1. 0. 1. 0. 0. 0. 1. 1.\n",
      " 1. 1. 1. 1. 1. 0. 0. 0. 1. 0. 1. 1. 1. 0. 0. 0. 0. 0. 1. 0. 1. 1. 0. 1.\n",
      " 1. 1. 1. 1. 1. 1. 0. 0. 1. 1. 1. 1. 1. 1. 0. 1. 1. 0. 1. 1. 0. 1. 1. 1.\n",
      " 1. 1. 1. 1.]\n"
     ]
    }
   ],
   "source": [
    "# Your code to print samples of y\n",
    "print(y)"
   ]
  },
  {
   "cell_type": "markdown",
   "metadata": {
    "id": "McKtFWAsvjD7"
   },
   "source": [
    "# Plot the data"
   ]
  },
  {
   "cell_type": "code",
   "execution_count": 7,
   "metadata": {
    "colab": {
     "base_uri": "https://localhost:8080/",
     "height": 279
    },
    "id": "EH5l7vponBKY",
    "outputId": "5ed7df4b-d744-4b7c-fd38-5fa377bebab8"
   },
   "outputs": [
    {
     "data": {
      "image/png": "[encoded data removed]",
      "text/plain": [
       "<Figure size 640x480 with 1 Axes>"
      ]
     },
     "metadata": {},
     "output_type": "display_data"
    }
   ],
   "source": [
    "plt.figure()\n",
    "plt.scatter(X[y == 1][:, 0], X[y == 1][:, 1], label=\"Admitted\")\n",
    "plt.plot(X, y)# Your code to plot all samples with target value 0\n",
    "plt.scatter(X[y == 0][:, 0], X[y == 0][:, 1], label=\"Not Admitted\")\n",
    "\n",
    "plt.xlabel(\"Exam 1 score\")\n",
    "plt.ylabel(\"Exam 2 score\")\n",
    "plt.legend()\n",
    "plt.show()"
   ]
  },
  {
   "cell_type": "markdown",
   "metadata": {
    "id": "JVxpVJZsvwFc"
   },
   "source": [
    "# Function for the Sigmoid\n",
    "\n",
    "# $g(z) = \\frac {1}{1 + e ^{-z}}$"
   ]
  },
  {
   "cell_type": "code",
   "execution_count": 8,
   "metadata": {
    "id": "PC1tUhtenEdc"
   },
   "outputs": [],
   "source": [
    "def sigmoid(z):\n",
    "  return 1 / (1 + np.exp(-z))# Your code to calculate the sigmoid values and then return it. Hint - np.exp()"
   ]
  },
  {
   "cell_type": "markdown",
   "metadata": {
    "id": "Q5c8wpDpw_cQ"
   },
   "source": [
    "# Plot the sigmod function.\n",
    "\n",
    "# X axis will have numbers from -10 to 10 (could be any other range). Hint - You can use np.linespace or np.arange methods.\n",
    "\n",
    "# y will have sigmoid function values."
   ]
  },
  {
   "cell_type": "code",
   "execution_count": 9,
   "metadata": {
    "id": "iSvxs6nMnHY9"
   },
   "outputs": [
    {
     "data": {
      "image/png": "[encoded data removed]",
      "text/plain": [
       "<Figure size 640x480 with 1 Axes>"
      ]
     },
     "metadata": {},
     "output_type": "display_data"
    }
   ],
   "source": [
    "# Your code to plot x vs sigmoid (x) function. x is range from -10 to 10. y can be obtained by calling the function defined earlier\n",
    "plt.plot()\n",
    "X_plot = np.linspace(-10, 10, 100)\n",
    "plt.plot(X_plot, sigmoid(X_plot))\n",
    "plt.show()"
   ]
  },
  {
   "cell_type": "markdown",
   "metadata": {
    "id": "JKvKz7YUxmtv"
   },
   "source": [
    "# Define a function to calculate the cost.\n",
    "\n",
    "![image.png](data:image/png;base64,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)\n",
    "\n",
    "# Hint - Use the sigmoid function output, np.dot, and np.log functions."
   ]
  },
  {
   "cell_type": "code",
   "execution_count": 10,
   "metadata": {
    "id": "oc2rIrEenNAx"
   },
   "outputs": [],
   "source": [
    "def cost(theta, X, y):\n",
    "\n",
    "    \n",
    "    # Your code to calculate the cost based on inputs - theta, X, y. 2-3 lines of code.  Assign cost to the variable J and return it.\n",
    "    h = sigmoid(np.dot(X, theta))\n",
    "    J = - (np.dot(y, np.log(h)) + np.log(1 - y, np.log(1 - h))) / X.shape[0]\n",
    "    return J"
   ]
  },
  {
   "cell_type": "markdown",
   "metadata": {
    "id": "Mvxump7Lx8El"
   },
   "source": [
    "# Define a function to calculate gradients of cost function with respect to the theta.\n",
    "\n",
    "![image.png](data:image/png;base64,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)"
   ]
  },
  {
   "cell_type": "code",
   "execution_count": 11,
   "metadata": {
    "id": "c7_0s-G1oibr"
   },
   "outputs": [],
   "source": [
    "def gradient(theta, X, y):\n",
    "    h = sigmoid(np.dot(X, theta))\n",
    "    grad = np.dot(X.T, h - y) / X.shape[0]\n",
    "    return grad"
   ]
  },
  {
   "cell_type": "markdown",
   "metadata": {
    "id": "GZFU5K2YzeVE"
   },
   "source": [
    "# Combine everything together.\n",
    "\n",
    "# This time we will use optimize function from scipy rather than writing gradient descent code from scratch"
   ]
  },
  {
   "cell_type": "code",
   "execution_count": 12,
   "metadata": {},
   "outputs": [
    {
     "name": "stdout",
     "output_type": "stream",
     "text": [
      "[[ 1.         34.62365962 78.02469282]\n",
      " [ 1.         30.28671077 43.89499752]\n",
      " [ 1.         35.84740877 72.90219803]\n",
      " [ 1.         60.18259939 86.3085521 ]\n",
      " [ 1.         79.03273605 75.34437644]\n",
      " [ 1.         45.08327748 56.31637178]\n",
      " [ 1.         61.10666454 96.51142588]\n",
      " [ 1.         75.02474557 46.55401354]\n",
      " [ 1.         76.0987867  87.42056972]\n",
      " [ 1.         84.43281996 43.53339331]\n",
      " [ 1.         95.86155507 38.22527806]\n",
      " [ 1.         75.01365839 30.60326323]\n",
      " [ 1.         82.30705337 76.4819633 ]\n",
      " [ 1.         69.36458876 97.71869196]\n",
      " [ 1.         39.53833914 76.03681085]\n",
      " [ 1.         53.97105215 89.20735014]\n",
      " [ 1.         69.07014406 52.74046973]\n",
      " [ 1.         67.94685548 46.67857411]\n",
      " [ 1.         70.66150955 92.92713789]\n",
      " [ 1.         76.97878373 47.57596365]\n",
      " [ 1.         67.37202755 42.83843832]\n",
      " [ 1.         89.67677575 65.79936593]\n",
      " [ 1.         50.53478829 48.85581153]\n",
      " [ 1.         34.21206098 44.2095286 ]\n",
      " [ 1.         77.92409145 68.97235999]\n",
      " [ 1.         62.27101367 69.95445795]\n",
      " [ 1.         80.19018075 44.82162893]\n",
      " [ 1.         93.1143888  38.80067034]\n",
      " [ 1.         61.83020602 50.25610789]\n",
      " [ 1.         38.7858038  64.99568096]\n",
      " [ 1.         61.37928945 72.80788731]\n",
      " [ 1.         85.40451939 57.05198398]\n",
      " [ 1.         52.10797973 63.12762377]\n",
      " [ 1.         52.04540477 69.43286012]\n",
      " [ 1.         40.23689374 71.16774802]\n",
      " [ 1.         54.63510555 52.21388588]\n",
      " [ 1.         33.91550011 98.86943574]\n",
      " [ 1.         64.17698887 80.90806059]\n",
      " [ 1.         74.78925296 41.57341523]\n",
      " [ 1.         34.18364003 75.23772034]\n",
      " [ 1.         83.90239366 56.30804622]\n",
      " [ 1.         51.54772027 46.85629026]\n",
      " [ 1.         94.44336777 65.56892161]\n",
      " [ 1.         82.36875376 40.61825516]\n",
      " [ 1.         51.04775177 45.82270146]\n",
      " [ 1.         62.22267576 52.06099195]\n",
      " [ 1.         77.19303493 70.4582    ]\n",
      " [ 1.         97.77159928 86.72782233]\n",
      " [ 1.         62.0730638  96.76882412]\n",
      " [ 1.         91.5649745  88.69629255]\n",
      " [ 1.         79.94481794 74.16311935]\n",
      " [ 1.         99.27252693 60.999031  ]\n",
      " [ 1.         90.54671411 43.39060181]\n",
      " [ 1.         34.52451385 60.39634246]\n",
      " [ 1.         50.28649612 49.80453881]\n",
      " [ 1.         49.58667722 59.80895099]\n",
      " [ 1.         97.64563396 68.86157272]\n",
      " [ 1.         32.57720017 95.59854761]\n",
      " [ 1.         74.24869137 69.82457123]\n",
      " [ 1.         71.79646206 78.45356225]\n",
      " [ 1.         75.39561147 85.75993667]\n",
      " [ 1.         35.28611282 47.02051395]\n",
      " [ 1.         56.2538175  39.26147251]\n",
      " [ 1.         30.05882245 49.59297387]\n",
      " [ 1.         44.66826172 66.45008615]\n",
      " [ 1.         66.56089447 41.09209808]\n",
      " [ 1.         40.45755098 97.53518549]\n",
      " [ 1.         49.07256322 51.88321182]\n",
      " [ 1.         80.27957401 92.11606081]\n",
      " [ 1.         66.74671857 60.99139403]\n",
      " [ 1.         32.72283304 43.30717306]\n",
      " [ 1.         64.03932042 78.03168802]\n",
      " [ 1.         72.34649423 96.22759297]\n",
      " [ 1.         60.45788574 73.0949981 ]\n",
      " [ 1.         58.84095622 75.85844831]\n",
      " [ 1.         99.8278578  72.36925193]\n",
      " [ 1.         47.26426911 88.475865  ]\n",
      " [ 1.         50.4581598  75.80985953]\n",
      " [ 1.         60.45555629 42.50840944]\n",
      " [ 1.         82.22666158 42.71987854]\n",
      " [ 1.         88.91389642 69.8037889 ]\n",
      " [ 1.         94.83450672 45.6943068 ]\n",
      " [ 1.         67.31925747 66.58935318]\n",
      " [ 1.         57.23870632 59.51428198]\n",
      " [ 1.         80.366756   90.9601479 ]\n",
      " [ 1.         68.46852179 85.5943071 ]\n",
      " [ 1.         42.07545454 78.844786  ]\n",
      " [ 1.         75.47770201 90.424539  ]\n",
      " [ 1.         78.63542435 96.64742717]\n",
      " [ 1.         52.34800399 60.76950526]\n",
      " [ 1.         94.09433113 77.15910509]\n",
      " [ 1.         90.44855097 87.50879176]\n",
      " [ 1.         55.48216114 35.57070347]\n",
      " [ 1.         74.49269242 84.84513685]\n",
      " [ 1.         89.84580671 45.35828361]\n",
      " [ 1.         83.48916274 48.3802858 ]\n",
      " [ 1.         42.26170081 87.10385094]\n",
      " [ 1.         99.31500881 68.77540947]\n",
      " [ 1.         55.34001756 64.93193801]\n",
      " [ 1.         74.775893   89.5298129 ]]\n",
      "[0 0 0] this is theta\n"
     ]
    }
   ],
   "source": [
    "X_train = np.hstack((np.ones((X.shape[0], 1)), X))\n",
    "print(X_train)\n",
    "theta = np.array([0, 0, 0])\n",
    "print(theta, \"this is theta\")"
   ]
  },
  {
   "cell_type": "code",
   "execution_count": 15,
   "metadata": {
    "id": "dxMpl1xInPn3"
   },
   "outputs": [
    {
     "name": "stderr",
     "output_type": "stream",
     "text": [
      "C:\\Users\\Lameck\\AppData\\Local\\Temp\\ipykernel_14148\\3809159288.py:6: RuntimeWarning: divide by zero encountered in log\n",
      "  J = - (np.dot(y, np.log(h)) + np.log(1 - y, np.log(1 - h))) / X.shape[0]\n"
     ]
    },
    {
     "ename": "ValueError",
     "evalue": "The user-provided objective function must return a scalar value.",
     "output_type": "error",
     "traceback": [
      "\u001b[1;31m---------------------------------------------------------------------------\u001b[0m",
      "\u001b[1;31mValueError\u001b[0m                                Traceback (most recent call last)",
      "File \u001b[1;32m~\\anaconda3\\Lib\\site-packages\\scipy\\optimize\\_differentiable_functions.py:141\u001b[0m, in \u001b[0;36mScalarFunction.__init__.<locals>.fun_wrapped\u001b[1;34m(x)\u001b[0m\n\u001b[0;32m    140\u001b[0m \u001b[38;5;28;01mtry\u001b[39;00m:\n\u001b[1;32m--> 141\u001b[0m     fx \u001b[38;5;241m=\u001b[39m np\u001b[38;5;241m.\u001b[39masarray(fx)\u001b[38;5;241m.\u001b[39mitem()\n\u001b[0;32m    142\u001b[0m \u001b[38;5;28;01mexcept\u001b[39;00m (\u001b[38;5;167;01mTypeError\u001b[39;00m, \u001b[38;5;167;01mValueError\u001b[39;00m) \u001b[38;5;28;01mas\u001b[39;00m e:\n",
      "\u001b[1;31mValueError\u001b[0m: can only convert an array of size 1 to a Python scalar",
      "\nThe above exception was the direct cause of the following exception:\n",
      "\u001b[1;31mValueError\u001b[0m                                Traceback (most recent call last)",
      "Cell \u001b[1;32mIn[15], line 3\u001b[0m\n\u001b[0;32m      1\u001b[0m X_train \u001b[38;5;241m=\u001b[39m np\u001b[38;5;241m.\u001b[39mhstack((np\u001b[38;5;241m.\u001b[39mones((X\u001b[38;5;241m.\u001b[39mshape[\u001b[38;5;241m0\u001b[39m], \u001b[38;5;241m1\u001b[39m)), X))\n\u001b[0;32m      2\u001b[0m theta \u001b[38;5;241m=\u001b[39m np\u001b[38;5;241m.\u001b[39marray([\u001b[38;5;241m0\u001b[39m, \u001b[38;5;241m0\u001b[39m, \u001b[38;5;241m0\u001b[39m])\n\u001b[1;32m----> 3\u001b[0m res \u001b[38;5;241m=\u001b[39m optimize\u001b[38;5;241m.\u001b[39mminimize(fun\u001b[38;5;241m=\u001b[39mcost, x0\u001b[38;5;241m=\u001b[39mtheta, args\u001b[38;5;241m=\u001b[39m(X_train, y),\n\u001b[0;32m      4\u001b[0m                         method\u001b[38;5;241m=\u001b[39m\u001b[38;5;124m'\u001b[39m\u001b[38;5;124mNewton-CG\u001b[39m\u001b[38;5;124m'\u001b[39m, jac\u001b[38;5;241m=\u001b[39mgradient)    \u001b[38;5;66;03m# Note - Optimization method is Newton - CG rather that gradient descent. You can use other optimization methods too.\u001b[39;00m\n\u001b[0;32m      5\u001b[0m \u001b[38;5;28mprint\u001b[39m(res\u001b[38;5;241m.\u001b[39mfun)  \u001b[38;5;66;03m# 0.203\u001b[39;00m\n\u001b[0;32m      6\u001b[0m \u001b[38;5;28mprint\u001b[39m(res\u001b[38;5;241m.\u001b[39mx)\n",
      "File \u001b[1;32m~\\anaconda3\\Lib\\site-packages\\scipy\\optimize\\_minimize.py:707\u001b[0m, in \u001b[0;36mminimize\u001b[1;34m(fun, x0, args, method, jac, hess, hessp, bounds, constraints, tol, callback, options)\u001b[0m\n\u001b[0;32m    705\u001b[0m     res \u001b[38;5;241m=\u001b[39m _minimize_bfgs(fun, x0, args, jac, callback, \u001b[38;5;241m*\u001b[39m\u001b[38;5;241m*\u001b[39moptions)\n\u001b[0;32m    706\u001b[0m \u001b[38;5;28;01melif\u001b[39;00m meth \u001b[38;5;241m==\u001b[39m \u001b[38;5;124m'\u001b[39m\u001b[38;5;124mnewton-cg\u001b[39m\u001b[38;5;124m'\u001b[39m:\n\u001b[1;32m--> 707\u001b[0m     res \u001b[38;5;241m=\u001b[39m _minimize_newtoncg(fun, x0, args, jac, hess, hessp, callback,\n\u001b[0;32m    708\u001b[0m                              \u001b[38;5;241m*\u001b[39m\u001b[38;5;241m*\u001b[39moptions)\n\u001b[0;32m    709\u001b[0m \u001b[38;5;28;01melif\u001b[39;00m meth \u001b[38;5;241m==\u001b[39m \u001b[38;5;124m'\u001b[39m\u001b[38;5;124ml-bfgs-b\u001b[39m\u001b[38;5;124m'\u001b[39m:\n\u001b[0;32m    710\u001b[0m     res \u001b[38;5;241m=\u001b[39m _minimize_lbfgsb(fun, x0, args, jac, bounds,\n\u001b[0;32m    711\u001b[0m                            callback\u001b[38;5;241m=\u001b[39mcallback, \u001b[38;5;241m*\u001b[39m\u001b[38;5;241m*\u001b[39moptions)\n",
      "File \u001b[1;32m~\\anaconda3\\Lib\\site-packages\\scipy\\optimize\\_optimize.py:2007\u001b[0m, in \u001b[0;36m_minimize_newtoncg\u001b[1;34m(fun, x0, args, jac, hess, hessp, callback, xtol, eps, maxiter, disp, return_all, **unknown_options)\u001b[0m\n\u001b[0;32m   2005\u001b[0m x0 \u001b[38;5;241m=\u001b[39m asarray(x0)\u001b[38;5;241m.\u001b[39mflatten()\n\u001b[0;32m   2006\u001b[0m \u001b[38;5;66;03m# TODO: add hessp (callable or FD) to ScalarFunction?\u001b[39;00m\n\u001b[1;32m-> 2007\u001b[0m sf \u001b[38;5;241m=\u001b[39m _prepare_scalar_function(\n\u001b[0;32m   2008\u001b[0m     fun, x0, jac, args\u001b[38;5;241m=\u001b[39margs, epsilon\u001b[38;5;241m=\u001b[39meps, hess\u001b[38;5;241m=\u001b[39mhess\n\u001b[0;32m   2009\u001b[0m )\n\u001b[0;32m   2010\u001b[0m f \u001b[38;5;241m=\u001b[39m sf\u001b[38;5;241m.\u001b[39mfun\n\u001b[0;32m   2011\u001b[0m fprime \u001b[38;5;241m=\u001b[39m sf\u001b[38;5;241m.\u001b[39mgrad\n",
      "File \u001b[1;32m~\\anaconda3\\Lib\\site-packages\\scipy\\optimize\\_optimize.py:383\u001b[0m, in \u001b[0;36m_prepare_scalar_function\u001b[1;34m(fun, x0, jac, args, bounds, epsilon, finite_diff_rel_step, hess)\u001b[0m\n\u001b[0;32m    379\u001b[0m     bounds \u001b[38;5;241m=\u001b[39m (\u001b[38;5;241m-\u001b[39mnp\u001b[38;5;241m.\u001b[39minf, np\u001b[38;5;241m.\u001b[39minf)\n\u001b[0;32m    381\u001b[0m \u001b[38;5;66;03m# ScalarFunction caches. Reuse of fun(x) during grad\u001b[39;00m\n\u001b[0;32m    382\u001b[0m \u001b[38;5;66;03m# calculation reduces overall function evaluations.\u001b[39;00m\n\u001b[1;32m--> 383\u001b[0m sf \u001b[38;5;241m=\u001b[39m ScalarFunction(fun, x0, args, grad, hess,\n\u001b[0;32m    384\u001b[0m                     finite_diff_rel_step, bounds, epsilon\u001b[38;5;241m=\u001b[39mepsilon)\n\u001b[0;32m    386\u001b[0m \u001b[38;5;28;01mreturn\u001b[39;00m sf\n",
      "File \u001b[1;32m~\\anaconda3\\Lib\\site-packages\\scipy\\optimize\\_differentiable_functions.py:158\u001b[0m, in \u001b[0;36mScalarFunction.__init__\u001b[1;34m(self, fun, x0, args, grad, hess, finite_diff_rel_step, finite_diff_bounds, epsilon)\u001b[0m\n\u001b[0;32m    155\u001b[0m     \u001b[38;5;28mself\u001b[39m\u001b[38;5;241m.\u001b[39mf \u001b[38;5;241m=\u001b[39m fun_wrapped(\u001b[38;5;28mself\u001b[39m\u001b[38;5;241m.\u001b[39mx)\n\u001b[0;32m    157\u001b[0m \u001b[38;5;28mself\u001b[39m\u001b[38;5;241m.\u001b[39m_update_fun_impl \u001b[38;5;241m=\u001b[39m update_fun\n\u001b[1;32m--> 158\u001b[0m \u001b[38;5;28mself\u001b[39m\u001b[38;5;241m.\u001b[39m_update_fun()\n\u001b[0;32m    160\u001b[0m \u001b[38;5;66;03m# Gradient evaluation\u001b[39;00m\n\u001b[0;32m    161\u001b[0m \u001b[38;5;28;01mif\u001b[39;00m \u001b[38;5;28mcallable\u001b[39m(grad):\n",
      "File \u001b[1;32m~\\anaconda3\\Lib\\site-packages\\scipy\\optimize\\_differentiable_functions.py:251\u001b[0m, in \u001b[0;36mScalarFunction._update_fun\u001b[1;34m(self)\u001b[0m\n\u001b[0;32m    249\u001b[0m \u001b[38;5;28;01mdef\u001b[39;00m \u001b[38;5;21m_update_fun\u001b[39m(\u001b[38;5;28mself\u001b[39m):\n\u001b[0;32m    250\u001b[0m     \u001b[38;5;28;01mif\u001b[39;00m \u001b[38;5;129;01mnot\u001b[39;00m \u001b[38;5;28mself\u001b[39m\u001b[38;5;241m.\u001b[39mf_updated:\n\u001b[1;32m--> 251\u001b[0m         \u001b[38;5;28mself\u001b[39m\u001b[38;5;241m.\u001b[39m_update_fun_impl()\n\u001b[0;32m    252\u001b[0m         \u001b[38;5;28mself\u001b[39m\u001b[38;5;241m.\u001b[39mf_updated \u001b[38;5;241m=\u001b[39m \u001b[38;5;28;01mTrue\u001b[39;00m\n",
      "File \u001b[1;32m~\\anaconda3\\Lib\\site-packages\\scipy\\optimize\\_differentiable_functions.py:155\u001b[0m, in \u001b[0;36mScalarFunction.__init__.<locals>.update_fun\u001b[1;34m()\u001b[0m\n\u001b[0;32m    154\u001b[0m \u001b[38;5;28;01mdef\u001b[39;00m \u001b[38;5;21mupdate_fun\u001b[39m():\n\u001b[1;32m--> 155\u001b[0m     \u001b[38;5;28mself\u001b[39m\u001b[38;5;241m.\u001b[39mf \u001b[38;5;241m=\u001b[39m fun_wrapped(\u001b[38;5;28mself\u001b[39m\u001b[38;5;241m.\u001b[39mx)\n",
      "File \u001b[1;32m~\\anaconda3\\Lib\\site-packages\\scipy\\optimize\\_differentiable_functions.py:143\u001b[0m, in \u001b[0;36mScalarFunction.__init__.<locals>.fun_wrapped\u001b[1;34m(x)\u001b[0m\n\u001b[0;32m    141\u001b[0m         fx \u001b[38;5;241m=\u001b[39m np\u001b[38;5;241m.\u001b[39masarray(fx)\u001b[38;5;241m.\u001b[39mitem()\n\u001b[0;32m    142\u001b[0m     \u001b[38;5;28;01mexcept\u001b[39;00m (\u001b[38;5;167;01mTypeError\u001b[39;00m, \u001b[38;5;167;01mValueError\u001b[39;00m) \u001b[38;5;28;01mas\u001b[39;00m e:\n\u001b[1;32m--> 143\u001b[0m         \u001b[38;5;28;01mraise\u001b[39;00m \u001b[38;5;167;01mValueError\u001b[39;00m(\n\u001b[0;32m    144\u001b[0m             \u001b[38;5;124m\"\u001b[39m\u001b[38;5;124mThe user-provided objective function \u001b[39m\u001b[38;5;124m\"\u001b[39m\n\u001b[0;32m    145\u001b[0m             \u001b[38;5;124m\"\u001b[39m\u001b[38;5;124mmust return a scalar value.\u001b[39m\u001b[38;5;124m\"\u001b[39m\n\u001b[0;32m    146\u001b[0m         ) \u001b[38;5;28;01mfrom\u001b[39;00m \u001b[38;5;21;01me\u001b[39;00m\n\u001b[0;32m    148\u001b[0m \u001b[38;5;28;01mif\u001b[39;00m fx \u001b[38;5;241m<\u001b[39m \u001b[38;5;28mself\u001b[39m\u001b[38;5;241m.\u001b[39m_lowest_f:\n\u001b[0;32m    149\u001b[0m     \u001b[38;5;28mself\u001b[39m\u001b[38;5;241m.\u001b[39m_lowest_x \u001b[38;5;241m=\u001b[39m x\n",
      "\u001b[1;31mValueError\u001b[0m: The user-provided objective function must return a scalar value."
     ]
    }
   ],
   "source": [
    "X_train = np.hstack((np.ones((X.shape[0], 1)), X))\n",
    "theta = np.array([0, 0, 0])\n",
    "res = optimize.minimize(fun=cost, x0=theta, args=(X_train, y),\n",
    "                        method='Newton-CG', jac=gradient)    # Note - Optimization method is Newton - CG rather that gradient descent. You can use other optimization methods too.\n",
    "print(res.fun)  # 0.203\n",
    "print(res.x)  # -25.161 0.206 0.201\n"
   ]
  },
  {
   "cell_type": "markdown",
   "metadata": {
    "id": "JVR6_QEb3Dly"
   },
   "source": [
    "# Plotting the decision boundary"
   ]
  },
  {
   "cell_type": "code",
   "execution_count": 16,
   "metadata": {
    "id": "Cup7Tv_YozXy"
   },
   "outputs": [],
   "source": [
    "def plotDecisionBoundary(theta, X, y):\n",
    "    x_min, x_max = X[:, 0].min() - 1, X[:, 0].max() + 1\n",
    "    y_min, y_max = X[:, 1].min() - 1, X[:, 1].max() + 1\n",
    "    xx, yy = np.meshgrid(np.arange(x_min, x_max, 0.1),\n",
    "                         np.arange(y_min, y_max, 0.1))\n",
    "    X_plot = np.c_[xx.ravel(), yy.ravel()]\n",
    "    X_plot = np.hstack((np.ones((X_plot.shape[0], 1)), X_plot))\n",
    "    y_plot = np.dot(X_plot, theta).reshape(xx.shape)\n",
    "\n",
    "    plt.figure()\n",
    "    plt.scatter(X[y == 1][:, 0], X[y == 1][:, 1], label=\"Admitted\")\n",
    "    plt.scatter(X[y == 0][:, 0], X[y == 0][:, 1], label=\"Not admitted\")\n",
    "    plt.contour(xx, yy, y_plot, levels=[0])\n",
    "    plt.xlabel(\"Exam 1 score\")\n",
    "    plt.ylabel(\"Exam 2 score\")\n",
    "    plt.legend()\n",
    "    plt.show()"
   ]
  },
  {
   "cell_type": "code",
   "execution_count": 17,
   "metadata": {
    "colab": {
     "base_uri": "https://localhost:8080/",
     "height": 279
    },
    "id": "zzW1iuQ5o7Db",
    "outputId": "a8e0ad74-0a18-496b-92cd-1259056d42e8"
   },
   "outputs": [
    {
     "ename": "NameError",
     "evalue": "name 'res' is not defined",
     "output_type": "error",
     "traceback": [
      "\u001b[1;31m---------------------------------------------------------------------------\u001b[0m",
      "\u001b[1;31mNameError\u001b[0m                                 Traceback (most recent call last)",
      "Cell \u001b[1;32mIn[17], line 1\u001b[0m\n\u001b[1;32m----> 1\u001b[0m plotDecisionBoundary(res\u001b[38;5;241m.\u001b[39mx, X, y)\n",
      "\u001b[1;31mNameError\u001b[0m: name 'res' is not defined"
     ]
    }
   ],
   "source": [
    "plotDecisionBoundary(res.x, X, y)\n"
   ]
  },
  {
   "cell_type": "markdown",
   "metadata": {
    "id": "MmxyAlwT3buh"
   },
   "source": [
    "# Getting the output - Probabilities.\n",
    "\n",
    "# What will be the output 1/0 for the following probability."
   ]
  },
  {
   "cell_type": "code",
   "execution_count": null,
   "metadata": {
    "colab": {
     "base_uri": "https://localhost:8080/"
    },
    "id": "51pKrUMho-5X",
    "outputId": "ef44c2f9-5ce1-452f-ac72-3cd5552fe1e9"
   },
   "outputs": [],
   "source": [
    "prob = sigmoid(np.dot(np.array([1, 45, 85]), res.x))\n",
    "print(prob)  # 0.775 +/- 0.002"
   ]
  },
  {
   "cell_type": "markdown",
   "metadata": {
    "id": "UBODSAEm3xvu"
   },
   "source": [
    "# Making predictions\n",
    "\n",
    "# First, we get input X\n",
    "\n",
    "# Then probability using sigmod and updated theta values.\n",
    "\n",
    "# Then we will get output 1/0 based on the probability."
   ]
  },
  {
   "cell_type": "code",
   "execution_count": null,
   "metadata": {
    "id": "Dxj6TOdLpC0c"
   },
   "outputs": [],
   "source": [
    "def predict(theta, X):\n",
    "    X_train = np.hstack((np.ones((X.shape[0], 1)), X))\n",
    "\n",
    "    # Your code to calculate the probability and convert it to 0 and 1 which will be returned. May be 2-3 lines of code."
   ]
  },
  {
   "cell_type": "markdown",
   "metadata": {
    "id": "R2ROcJI-4H6d"
   },
   "source": [
    "#  Calculating accuracy - number of correct classification/total number of classification."
   ]
  },
  {
   "cell_type": "code",
   "execution_count": null,
   "metadata": {
    "id": "Hv_toRBjpFdY"
   },
   "outputs": [],
   "source": [
    "np.mean(predict(res.x, X) == y) \n"
   ]
  },
  {
   "cell_type": "markdown",
   "metadata": {
    "id": "XNetBPpekYN9"
   },
   "source": [
    "# **Important-** Document in your lab logbook, final accuracy and the  encrypted value of the accuracy obtained after after multiplying accuracy by your SID i.e. accuracy*SID.  "
   ]
  },
  {
   "cell_type": "markdown",
   "metadata": {
    "id": "NZezu3t1EMcO"
   },
   "source": [
    "# **The rest of the notebook is optional. You are encouraged to complete it. But, if you have not, marks will not be deducted.**\n",
    "\n",
    "# Using SKlearn library to perform logistic regression task.\n",
    "\n",
    "##Let's used another dataset Social Network adds dataset - dataset contains some information about all of our users in the social network, including their User ID, Gender, Age, and Estimated Salary. The last column of the dataset is a vector of booleans describing whether or not each individual ended up clicking on the advertisement (0 = False, 1 = True)."
   ]
  },
  {
   "cell_type": "code",
   "execution_count": null,
   "metadata": {
    "id": "8_NMmRac64ub"
   },
   "outputs": [],
   "source": [
    "from sklearn.model_selection import train_test_split\n",
    "from sklearn.preprocessing import StandardScaler\n",
    "from sklearn.linear_model import LogisticRegression\n",
    "from sklearn.metrics import confusion_matrix, ConfusionMatrixDisplay, classification_report, accuracy_score\n",
    "from matplotlib.colors import ListedColormap\n",
    "\n"
   ]
  },
  {
   "cell_type": "markdown",
   "metadata": {
    "id": "eo14hpo2FkX3"
   },
   "source": [
    "# Splitting the data into training and test sets"
   ]
  },
  {
   "cell_type": "code",
   "execution_count": null,
   "metadata": {
    "id": "5hqUfeuKFhSq"
   },
   "outputs": [],
   "source": [
    "# Your cose to split the data using sklearn train_test_split"
   ]
  },
  {
   "cell_type": "markdown",
   "metadata": {
    "id": "4dkQBH4lFtTk"
   },
   "source": [
    "# Scaling the data - Converting everthing between 0-1"
   ]
  },
  {
   "cell_type": "code",
   "execution_count": null,
   "metadata": {
    "id": "-A57QUnL7Axm"
   },
   "outputs": [],
   "source": [
    "\n",
    "sc = StandardScaler()\n",
    "X_train = sc.fit_transform(X_train)\n",
    "X_test = sc.transform(X_test)"
   ]
  },
  {
   "cell_type": "markdown",
   "metadata": {
    "id": "olIEzZ2KF1vt"
   },
   "source": [
    "# Running Logistc Regression on training data -\n",
    "\n",
    "# Remember - any kind of fit methiod  will be always used for the training data."
   ]
  },
  {
   "cell_type": "code",
   "execution_count": null,
   "metadata": {
    "id": "HItLnJqp7GMw"
   },
   "outputs": [],
   "source": [
    "classifier = LogisticRegression(random_state = 0)\n",
    "classifier.fit(X_train, y_train)"
   ]
  },
  {
   "cell_type": "markdown",
   "metadata": {
    "id": "mx2AGzfjGD8U"
   },
   "source": []
  },
  {
   "cell_type": "markdown",
   "metadata": {
    "id": "jUU2bxKIGbDt"
   },
   "source": [
    "Making a prediction on the classifier."
   ]
  },
  {
   "cell_type": "markdown",
   "metadata": {
    "id": "vNcwAMM4GjAd"
   },
   "source": [
    "# Making a prediction on the test set dataset."
   ]
  },
  {
   "cell_type": "code",
   "execution_count": null,
   "metadata": {
    "id": "ka2aYW2A7L7M"
   },
   "outputs": [],
   "source": [
    "y_pred = classifier.predict(X_test)\n",
    "print(np.concatenate((y_pred.reshape(len(y_pred),1), y_test.reshape(len(y_test),1)),1))"
   ]
  },
  {
   "cell_type": "markdown",
   "metadata": {
    "id": "3CpLuta9HN04"
   },
   "source": [
    "# Getting the accuracy scores.\n",
    "\n",
    "## Will study in detail in class.\n",
    "\n"
   ]
  },
  {
   "cell_type": "code",
   "execution_count": null,
   "metadata": {
    "id": "clI8Ulv_HEoM"
   },
   "outputs": [],
   "source": [
    "print (classification_report(y_test, y_pred))\n",
    "\n",
    "print (print(\"Validation Accuracy: \",accuracy_score(y_test, y_pred)))"
   ]
  },
  {
   "cell_type": "markdown",
   "metadata": {
    "id": "foQaRSl2Go0I"
   },
   "source": [
    "# Plotting the Confusion Matrix."
   ]
  },
  {
   "cell_type": "code",
   "execution_count": null,
   "metadata": {
    "id": "PSi60KTm7OSu"
   },
   "outputs": [],
   "source": [
    "cm = confusion_matrix(y_test, y_pred)\n",
    "disp = ConfusionMatrixDisplay(confusion_matrix=cm, display_labels=classifier.classes_)\n",
    "disp.plot()\n",
    "plt.show()\n"
   ]
  },
  {
   "cell_type": "code",
   "execution_count": null,
   "metadata": {
    "id": "H47f4Nmv7T92"
   },
   "outputs": [],
   "source": [
    "# Visualising the Training set results\n",
    "from matplotlib.colors import ListedColormap\n",
    "X_set, y_set = X_train, y_train\n",
    "X, Y = np.meshgrid(np.arange(start = X_set[:, 0].min() - 1, stop = X_set[:, 0].max() + 1, step = 0.01),\n",
    "                     np.arange(start = X_set[:, 1].min() - 1, stop = X_set[:, 1].max() + 1, step = 0.01))\n",
    "\n",
    "probs = classifier.predict(np.array([X.ravel(), Y.ravel()]).T).reshape(X.shape)\n",
    "plt.contourf(X, Y, probs, alpha = 0.75, cmap = ListedColormap(('red', 'green')))\n",
    "plt.xlim(X.min(), X.max())\n",
    "plt.ylim(Y.min(), Y.max())\n",
    "\n",
    "for i, j in enumerate(np.unique(y_set)):\n",
    "    plt.scatter(X_set[y_set == j, 0], X_set[y_set == j, 1],\n",
    "                c = ListedColormap(('red', 'green'))(i), label = j, edgecolor=\"white\")\n",
    "\n",
    "plt.title('Logistic Regression Classifier (Training set)')\n",
    "plt.xlabel('Age')\n",
    "plt.ylabel('Estimated Salary')\n",
    "plt.legend()\n",
    "plt.show()\n"
   ]
  },
  {
   "cell_type": "code",
   "execution_count": null,
   "metadata": {
    "id": "SeuKMsBd7WWf"
   },
   "outputs": [],
   "source": [
    "# Visualising the Test set results\n",
    "X_set, y_set = X_test, y_test\n",
    "X, Y = np.meshgrid(np.arange(start = X_set[:, 0].min() - 1, stop = X_set[:, 0].max() + 1, step = 0.01),\n",
    "                     np.arange(start = X_set[:, 1].min() - 1, stop = X_set[:, 1].max() + 1, step = 0.01))\n",
    "\n",
    "probs = classifier.predict(np.array([X.ravel(), Y.ravel()]).T).reshape(X.shape)\n",
    "plt.contourf(X, Y, probs, alpha = 0.75, cmap = ListedColormap(('red', 'green')))\n",
    "plt.xlim(X.min(), X.max())\n",
    "plt.ylim(Y.min(), Y.max())\n",
    "\n",
    "for i, j in enumerate(np.unique(y_set)):\n",
    "    plt.scatter(X_set[y_set == j, 0], X_set[y_set == j, 1],\n",
    "                c = ListedColormap(('red', 'green'))(i), label = j, edgecolor=\"white\")\n",
    "\n",
    "plt.title('Logistic Regression Classifier (Test set)')\n",
    "plt.xlabel('Age')\n",
    "plt.ylabel('Estimated Salary')\n",
    "plt.legend()\n",
    "plt.show()"
   ]
  }
 ],
 "metadata": {
  "colab": {
   "provenance": []
  },
  "kernelspec": {
   "display_name": "Python 3 (ipykernel)",
   "language": "python",
   "name": "python3"
  },
  "language_info": {
   "codemirror_mode": {
    "name": "ipython",
    "version": 3
   },
   "file_extension": ".py",
   "mimetype": "text/x-python",
   "name": "python",
   "nbconvert_exporter": "python",
   "pygments_lexer": "ipython3",
   "version": "3.11.5"
  }
 },
 "nbformat": 4,
 "nbformat_minor": 1
}
