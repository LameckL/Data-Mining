{
  "nbformat": 4,
  "nbformat_minor": 0,
  "metadata": {
    "colab": {
      "provenance": []
    },
    "kernelspec": {
      "name": "python3",
      "display_name": "Python 3"
    },
    "language_info": {
      "name": "python"
    }
  },
  "cells": [
    {
      "cell_type": "markdown",
      "source": [
        "#Today's problem involves analyzing car data. This dataset comprises 1728 rows and 6 different attributes: buying price, price of maintenance, number of doors, capacity in terms of persons to carry, the relative size of the luggage boot, and the estimated safety value of each car.\n",
        "#The Problem: You are tasked with constructing and evaluating a decision tree classifier on this dataset. Utilize and compare different types of split criteria (entropy, Gini index, loss). The decision tree will classify the type of car into one of the following categories: 1) unacceptable, 2) acceptable, 3) good, or 4) very good.\n",
        "\n",
        "#In addition to developing an ML model, you also need to visualize a trees based on your developed models. The tree can be visualized using graphviz library.\n",
        "\n",
        "#Note - This time, the data is split into several CSV files and stored in a zipped folder. You need to merge or concatenate the data after reading from multiple files.\n",
        "#Resource for combining dataframes:\n",
        "https://pandas.pydata.org/pandas-docs/stable/reference/api/pandas.concat.html\n",
        "\n",
        "#Resources for drawing a tree using Graphviz:\n",
        "\n",
        "https://scikit-learn.org/stable/modules/generated/sklearn.tree.export_graphviz.html\n",
        "\n",
        "https://canvas.anglia.ac.uk/files/4155049/download?download_frd=1\n",
        "\n"
      ],
      "metadata": {
        "id": "RABj-hgZ4Lrg"
      }
    },
    {
      "cell_type": "code",
      "source": [
        "################################################################################\n",
        "#\n",
        "#\n",
        "# Your code to develop a decision tree classifier.\n",
        "# Check the accuracy, performance metrices, and confusion metrics.\n",
        "# Draw the decision tree using Graphviz.\n",
        "# You can split your code into different cells according to your own choice\n",
        "#\n",
        "#\n",
        "################################################################################"
      ],
      "metadata": {
        "id": "ucOC5D1a7-8v"
      },
      "execution_count": null,
      "outputs": []
    },
    {
      "cell_type": "markdown",
      "source": [
        "# Lab Logbook requirements. Answer the following questions and put in your lab logbook (Do not use more than 2 sentences for each question):\n",
        "\n",
        "\n",
        "1.   What is the decision criterion at each node of the decision tree?\n",
        "2.   How is entropy/gini index/loss change at each node?\n",
        "3.   Is entropy decreasing or increasing in as we move down in tree?\n",
        "4.   How many samples are left at each node? Can you see any pattern?\n",
        "5.   What information is contained at leaf node?\n",
        "\n"
      ],
      "metadata": {
        "id": "o1aKcefh_HKB"
      }
    },
    {
      "cell_type": "code",
      "source": [
        "# Optional - The following is optional.\n",
        "\n",
        "################################################################################\n",
        "#\n",
        "#\n",
        "#Compare Decision tree performnce with SVM, KNN, and Logistic Regression.\n",
        "# You can split your code into different cells according to your own choise\n",
        "#\n",
        "#\n",
        "################################################################################"
      ],
      "metadata": {
        "id": "cK1nW93gADHW"
      },
      "execution_count": null,
      "outputs": []
    }
  ]
}