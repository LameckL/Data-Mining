{
 "cells": [
  {
   "cell_type": "code",
   "execution_count": null,
   "metadata": {
    "colab": {
     "base_uri": "https://localhost:8080/",
     "height": 74
    },
    "id": "q37iHReUSUyP",
    "outputId": "95779cbe-afd5-4d4b-d3ff-b82293bc1a53"
   },
   "outputs": [
    {
     "data": {
      "text/html": [
       "\n",
       "     <input type=\"file\" id=\"files-da2ceb6f-43bd-4bb0-befa-3ad064240a23\" name=\"files[]\" multiple disabled\n",
       "        style=\"border:none\" />\n",
       "     <output id=\"result-da2ceb6f-43bd-4bb0-befa-3ad064240a23\">\n",
       "      Upload widget is only available when the cell has been executed in the\n",
       "      current browser session. Please rerun this cell to enable.\n",
       "      </output>\n",
       "      <script>// Copyright 2017 Google LLC\n",
       "//\n",
       "// Licensed under the Apache License, Version 2.0 (the \"License\");\n",
       "// you may not use this file except in compliance with the License.\n",
       "// You may obtain a copy of the License at\n",
       "//\n",
       "//      http://www.apache.org/licenses/LICENSE-2.0\n",
       "//\n",
       "// Unless required by applicable law or agreed to in writing, software\n",
       "// distributed under the License is distributed on an \"AS IS\" BASIS,\n",
       "// WITHOUT WARRANTIES OR CONDITIONS OF ANY KIND, either express or implied.\n",
       "// See the License for the specific language governing permissions and\n",
       "// limitations under the License.\n",
       "\n",
       "/**\n",
       " * @fileoverview Helpers for google.colab Python module.\n",
       " */\n",
       "(function(scope) {\n",
       "function span(text, styleAttributes = {}) {\n",
       "  const element = document.createElement('span');\n",
       "  element.textContent = text;\n",
       "  for (const key of Object.keys(styleAttributes)) {\n",
       "    element.style[key] = styleAttributes[key];\n",
       "  }\n",
       "  return element;\n",
       "}\n",
       "\n",
       "// Max number of bytes which will be uploaded at a time.\n",
       "const MAX_PAYLOAD_SIZE = 100 * 1024;\n",
       "\n",
       "function _uploadFiles(inputId, outputId) {\n",
       "  const steps = uploadFilesStep(inputId, outputId);\n",
       "  const outputElement = document.getElementById(outputId);\n",
       "  // Cache steps on the outputElement to make it available for the next call\n",
       "  // to uploadFilesContinue from Python.\n",
       "  outputElement.steps = steps;\n",
       "\n",
       "  return _uploadFilesContinue(outputId);\n",
       "}\n",
       "\n",
       "// This is roughly an async generator (not supported in the browser yet),\n",
       "// where there are multiple asynchronous steps and the Python side is going\n",
       "// to poll for completion of each step.\n",
       "// This uses a Promise to block the python side on completion of each step,\n",
       "// then passes the result of the previous step as the input to the next step.\n",
       "function _uploadFilesContinue(outputId) {\n",
       "  const outputElement = document.getElementById(outputId);\n",
       "  const steps = outputElement.steps;\n",
       "\n",
       "  const next = steps.next(outputElement.lastPromiseValue);\n",
       "  return Promise.resolve(next.value.promise).then((value) => {\n",
       "    // Cache the last promise value to make it available to the next\n",
       "    // step of the generator.\n",
       "    outputElement.lastPromiseValue = value;\n",
       "    return next.value.response;\n",
       "  });\n",
       "}\n",
       "\n",
       "/**\n",
       " * Generator function which is called between each async step of the upload\n",
       " * process.\n",
       " * @param {string} inputId Element ID of the input file picker element.\n",
       " * @param {string} outputId Element ID of the output display.\n",
       " * @return {!Iterable<!Object>} Iterable of next steps.\n",
       " */\n",
       "function* uploadFilesStep(inputId, outputId) {\n",
       "  const inputElement = document.getElementById(inputId);\n",
       "  inputElement.disabled = false;\n",
       "\n",
       "  const outputElement = document.getElementById(outputId);\n",
       "  outputElement.innerHTML = '';\n",
       "\n",
       "  const pickedPromise = new Promise((resolve) => {\n",
       "    inputElement.addEventListener('change', (e) => {\n",
       "      resolve(e.target.files);\n",
       "    });\n",
       "  });\n",
       "\n",
       "  const cancel = document.createElement('button');\n",
       "  inputElement.parentElement.appendChild(cancel);\n",
       "  cancel.textContent = 'Cancel upload';\n",
       "  const cancelPromise = new Promise((resolve) => {\n",
       "    cancel.onclick = () => {\n",
       "      resolve(null);\n",
       "    };\n",
       "  });\n",
       "\n",
       "  // Wait for the user to pick the files.\n",
       "  const files = yield {\n",
       "    promise: Promise.race([pickedPromise, cancelPromise]),\n",
       "    response: {\n",
       "      action: 'starting',\n",
       "    }\n",
       "  };\n",
       "\n",
       "  cancel.remove();\n",
       "\n",
       "  // Disable the input element since further picks are not allowed.\n",
       "  inputElement.disabled = true;\n",
       "\n",
       "  if (!files) {\n",
       "    return {\n",
       "      response: {\n",
       "        action: 'complete',\n",
       "      }\n",
       "    };\n",
       "  }\n",
       "\n",
       "  for (const file of files) {\n",
       "    const li = document.createElement('li');\n",
       "    li.append(span(file.name, {fontWeight: 'bold'}));\n",
       "    li.append(span(\n",
       "        `(${file.type || 'n/a'}) - ${file.size} bytes, ` +\n",
       "        `last modified: ${\n",
       "            file.lastModifiedDate ? file.lastModifiedDate.toLocaleDateString() :\n",
       "                                    'n/a'} - `));\n",
       "    const percent = span('0% done');\n",
       "    li.appendChild(percent);\n",
       "\n",
       "    outputElement.appendChild(li);\n",
       "\n",
       "    const fileDataPromise = new Promise((resolve) => {\n",
       "      const reader = new FileReader();\n",
       "      reader.onload = (e) => {\n",
       "        resolve(e.target.result);\n",
       "      };\n",
       "      reader.readAsArrayBuffer(file);\n",
       "    });\n",
       "    // Wait for the data to be ready.\n",
       "    let fileData = yield {\n",
       "      promise: fileDataPromise,\n",
       "      response: {\n",
       "        action: 'continue',\n",
       "      }\n",
       "    };\n",
       "\n",
       "    // Use a chunked sending to avoid message size limits. See b/62115660.\n",
       "    let position = 0;\n",
       "    do {\n",
       "      const length = Math.min(fileData.byteLength - position, MAX_PAYLOAD_SIZE);\n",
       "      const chunk = new Uint8Array(fileData, position, length);\n",
       "      position += length;\n",
       "\n",
       "      const base64 = btoa(String.fromCharCode.apply(null, chunk));\n",
       "      yield {\n",
       "        response: {\n",
       "          action: 'append',\n",
       "          file: file.name,\n",
       "          data: base64,\n",
       "        },\n",
       "      };\n",
       "\n",
       "      let percentDone = fileData.byteLength === 0 ?\n",
       "          100 :\n",
       "          Math.round((position / fileData.byteLength) * 100);\n",
       "      percent.textContent = `${percentDone}% done`;\n",
       "\n",
       "    } while (position < fileData.byteLength);\n",
       "  }\n",
       "\n",
       "  // All done.\n",
       "  yield {\n",
       "    response: {\n",
       "      action: 'complete',\n",
       "    }\n",
       "  };\n",
       "}\n",
       "\n",
       "scope.google = scope.google || {};\n",
       "scope.google.colab = scope.google.colab || {};\n",
       "scope.google.colab._files = {\n",
       "  _uploadFiles,\n",
       "  _uploadFilesContinue,\n",
       "};\n",
       "})(self);\n",
       "</script> "
      ],
      "text/plain": [
       "<IPython.core.display.HTML object>"
      ]
     },
     "metadata": {},
     "output_type": "display_data"
    },
    {
     "name": "stdout",
     "output_type": "stream",
     "text": [
      "Saving Live.csv to Live.csv\n"
     ]
    }
   ],
   "source": [
    "from google.colab import files\n",
    "uploaded = files.upload()"
   ]
  },
  {
   "cell_type": "markdown",
   "metadata": {
    "id": "YQKpDbscWphd"
   },
   "source": [
    "# Import Libraries"
   ]
  },
  {
   "cell_type": "code",
   "execution_count": null,
   "metadata": {
    "id": "aAeIhmYDShQJ"
   },
   "outputs": [],
   "source": [
    "# Your code to import libraries"
   ]
  },
  {
   "cell_type": "markdown",
   "metadata": {
    "id": "Kr2Z-qBYWtQ5"
   },
   "source": [
    "# Read File"
   ]
  },
  {
   "cell_type": "code",
   "execution_count": null,
   "metadata": {
    "id": "2kVhVB39SwMB"
   },
   "outputs": [],
   "source": [
    "# Your code to read file\n"
   ]
  },
  {
   "cell_type": "markdown",
   "metadata": {
    "id": "KdkGfm16Wv8A"
   },
   "source": [
    "# Print the shape of the data. How many rows and columns are there?"
   ]
  },
  {
   "cell_type": "code",
   "execution_count": null,
   "metadata": {
    "id": "47fiEXFuS9bZ"
   },
   "outputs": [],
   "source": [
    "# Your code to print the shape of the data"
   ]
  },
  {
   "cell_type": "markdown",
   "metadata": {
    "id": "ZPaq-TbyW8Lh"
   },
   "source": [
    "# Preview the dataset"
   ]
  },
  {
   "cell_type": "code",
   "execution_count": null,
   "metadata": {
    "id": "B_wKWpzTS_rb"
   },
   "outputs": [],
   "source": [
    "# Your code to preview the dataset\n"
   ]
  },
  {
   "cell_type": "markdown",
   "metadata": {
    "id": "382IU4IyXKrl"
   },
   "source": [
    "View summary of dataset\n"
   ]
  },
  {
   "cell_type": "code",
   "execution_count": null,
   "metadata": {
    "id": "dTsYNd8rTvoR"
   },
   "outputs": [],
   "source": [
    "# Your code to print summary of the dataset\n"
   ]
  },
  {
   "cell_type": "markdown",
   "metadata": {
    "id": "Bmn-CxNJXPLU"
   },
   "source": [
    "# Check for missing values in dataset"
   ]
  },
  {
   "cell_type": "code",
   "execution_count": null,
   "metadata": {
    "id": "mY8U5rJaTzZh"
   },
   "outputs": [],
   "source": [
    "# Your code to check missing value in the dataset\n"
   ]
  },
  {
   "cell_type": "markdown",
   "metadata": {
    "id": "9SMSn5E1XcEx"
   },
   "source": [
    "#Drop redundant columns. Which columns are redundant?"
   ]
  },
  {
   "cell_type": "code",
   "execution_count": null,
   "metadata": {
    "id": "oMbjqGX4T4dv"
   },
   "outputs": [],
   "source": [
    "# Your code to drop the drop the redundant colimns\n"
   ]
  },
  {
   "cell_type": "markdown",
   "metadata": {
    "id": "xnzjiRXiXk83"
   },
   "source": [
    "# View summary of dataset"
   ]
  },
  {
   "cell_type": "code",
   "execution_count": null,
   "metadata": {
    "id": "BTMo9XsZUAVV"
   },
   "outputs": [],
   "source": [
    "# Your code to print the summary of the dataset\n"
   ]
  },
  {
   "cell_type": "markdown",
   "metadata": {
    "id": "HHIgKv7sXqr0"
   },
   "source": [
    "# View the statistical summary of numerical variables. Use 'describe method'\n"
   ]
  },
  {
   "cell_type": "code",
   "execution_count": null,
   "metadata": {
    "id": "xaKdgSS3UEtS"
   },
   "outputs": [],
   "source": [
    "# Your code to print the statistical summary of the dataset\n"
   ]
  },
  {
   "cell_type": "markdown",
   "metadata": {
    "id": "TcBjBnZwYGX1"
   },
   "source": [
    "# There are 3 categorical variables in the dataset. We will explore them one by one.\n",
    "\n",
    "# Explore status_id variable. Find the unique values of the column 'status_id'"
   ]
  },
  {
   "cell_type": "code",
   "execution_count": null,
   "metadata": {
    "id": "wYZN9mllUdsi"
   },
   "outputs": [],
   "source": [
    "# Your code to print the unique values of the variable 'status_id'\n",
    "x"
   ]
  },
  {
   "cell_type": "markdown",
   "metadata": {
    "id": "k1viquksYXSm"
   },
   "source": [
    "# View how many different types of variables are there\n",
    "\n",
    "Based on the results, determine what you need to do with this column - 'Drop it' or 'Keep it'"
   ]
  },
  {
   "cell_type": "code",
   "execution_count": null,
   "metadata": {
    "id": "2Pbbhl_jUgLt"
   },
   "outputs": [],
   "source": [
    "# Your code to determine the number of different types of the variable"
   ]
  },
  {
   "cell_type": "markdown",
   "metadata": {
    "id": "LAp8XjCfYxdz"
   },
   "source": [
    "# Explore 'status_published' column and decide whether to drop or keep it."
   ]
  },
  {
   "cell_type": "code",
   "execution_count": null,
   "metadata": {
    "id": "8oNSWXJfUjnO"
   },
   "outputs": [],
   "source": [
    "# Your code to print the unique values of the variable 'statu_published'\n"
   ]
  },
  {
   "cell_type": "code",
   "execution_count": null,
   "metadata": {
    "colab": {
     "base_uri": "https://localhost:8080/"
    },
    "id": "CeGjRC-AUmO-",
    "outputId": "5d900bc7-7384-4a59-f2ee-5813aad9d41b"
   },
   "outputs": [
    {
     "data": {
      "text/plain": [
       "6913"
      ]
     },
     "execution_count": 48,
     "metadata": {},
     "output_type": "execute_result"
    }
   ],
   "source": [
    "# Your code to determine the number of different types of the variable"
   ]
  },
  {
   "cell_type": "markdown",
   "metadata": {
    "id": "-annYSZoZFPA"
   },
   "source": [
    "# Explore 'status_type' and decide whether to drop or keep it"
   ]
  },
  {
   "cell_type": "code",
   "execution_count": null,
   "metadata": {
    "id": "ZRwUcMGQU2uW"
   },
   "outputs": [],
   "source": [
    "# Your code to print the unique values of the variable 'status_type'\n"
   ]
  },
  {
   "cell_type": "markdown",
   "metadata": {
    "id": "mCtNgu9aY-zR"
   },
   "source": []
  },
  {
   "cell_type": "code",
   "execution_count": null,
   "metadata": {
    "id": "udekDr4cU5QS"
   },
   "outputs": [],
   "source": [
    "# Your code to determine the number of different types of the variable 'status_type'"
   ]
  },
  {
   "cell_type": "code",
   "execution_count": null,
   "metadata": {
    "id": "8HwLTGJ1U8XH"
   },
   "outputs": [],
   "source": [
    "# Drop some variables, if necessary"
   ]
  },
  {
   "cell_type": "markdown",
   "metadata": {
    "id": "kdxFHn1tZSly"
   },
   "source": [
    "# After processing, print the summary of dataset again."
   ]
  },
  {
   "cell_type": "code",
   "execution_count": null,
   "metadata": {
    "id": "c5apR1OYU-iG"
   },
   "outputs": [],
   "source": [
    "# Your code to print the summary of the dataset"
   ]
  },
  {
   "cell_type": "markdown",
   "metadata": {
    "id": "saSJ807MZql6"
   },
   "source": []
  },
  {
   "cell_type": "markdown",
   "metadata": {
    "id": "FL2BJfoZZ45u"
   },
   "source": [
    "# Preview the dataset again"
   ]
  },
  {
   "cell_type": "code",
   "execution_count": null,
   "metadata": {
    "id": "afgTfIBwVBMV"
   },
   "outputs": [],
   "source": [
    "# Your code to preview the dataset"
   ]
  },
  {
   "cell_type": "markdown",
   "metadata": {
    "id": "2TtryWwHaRrG"
   },
   "source": [
    "# Declare feature vector and target variable\n",
    "\n",
    "# Remember - We need only X for training the model. The y is normally unknown. However, we will use y for the testing the accuracy of the trained model.\n",
    "\n",
    "\n",
    "\n"
   ]
  },
  {
   "cell_type": "code",
   "execution_count": null,
   "metadata": {
    "id": "e_1DSZqxVGyJ"
   },
   "outputs": [],
   "source": [
    "X = df\n",
    "\n",
    "y = df['status_type']"
   ]
  },
  {
   "cell_type": "markdown",
   "metadata": {
    "id": "K5CzOqJhdt9j"
   },
   "source": [
    "# Perform label encoding on the categorical data."
   ]
  },
  {
   "cell_type": "code",
   "execution_count": null,
   "metadata": {
    "id": "j64ORc2vVJzZ"
   },
   "outputs": [],
   "source": [
    "#\n",
    "# Your code to perform the label encoding the X.\n",
    "#"
   ]
  },
  {
   "cell_type": "markdown",
   "metadata": {
    "id": "Gs2jBR6Fd2NK"
   },
   "source": [
    "# View the brief info of the input X."
   ]
  },
  {
   "cell_type": "code",
   "execution_count": null,
   "metadata": {
    "id": "TGQD45GUVMN_"
   },
   "outputs": [],
   "source": [
    "# Your code to view the brief info of the X"
   ]
  },
  {
   "cell_type": "markdown",
   "metadata": {
    "id": "Dgdu5mOzeLZ5"
   },
   "source": [
    "# Preview the dataset"
   ]
  },
  {
   "cell_type": "code",
   "execution_count": null,
   "metadata": {
    "id": "27MgfBWrVOTn"
   },
   "outputs": [],
   "source": [
    "# Your code to preview the dataset\n"
   ]
  },
  {
   "cell_type": "markdown",
   "metadata": {
    "id": "-UUCPR-DecZd"
   },
   "source": [
    "# Perfrom the feature scaling on X. Use MinMaxScaler"
   ]
  },
  {
   "cell_type": "code",
   "execution_count": null,
   "metadata": {
    "id": "gNJ1T2R3VS70"
   },
   "outputs": [],
   "source": [
    "#\n",
    "# Your code to perform the feature scaling on X\n",
    "#\n"
   ]
  },
  {
   "cell_type": "markdown",
   "metadata": {
    "id": "QwjlDmuofkIu"
   },
   "source": [
    "# Develop KMean clustering using 2 clusters.\n",
    "\n",
    "## https://scikit-learn.org/stable/modules/generated/sklearn.cluster.KMeans.html"
   ]
  },
  {
   "cell_type": "code",
   "execution_count": null,
   "metadata": {
    "id": "PjumnTr1VaxJ"
   },
   "outputs": [],
   "source": [
    "#\n",
    "# Your code to implement KMeans algorithm\n",
    "#"
   ]
  },
  {
   "cell_type": "markdown",
   "metadata": {
    "id": "Dy7yKsVTgZFV"
   },
   "source": [
    "# Print the cluster centers."
   ]
  },
  {
   "cell_type": "code",
   "execution_count": null,
   "metadata": {
    "id": "4c6ayArSVfTV"
   },
   "outputs": [],
   "source": [
    "# Your code to print the cluster centers\n"
   ]
  },
  {
   "cell_type": "markdown",
   "metadata": {
    "id": "efWQcFJugfY6"
   },
   "source": [
    "# Print the intertia."
   ]
  },
  {
   "cell_type": "code",
   "execution_count": null,
   "metadata": {
    "id": "FiB1g9IiVjWg"
   },
   "outputs": [],
   "source": [
    "# Your code to print the inertia\n"
   ]
  },
  {
   "cell_type": "markdown",
   "metadata": {
    "id": "Jf77qWrggs46"
   },
   "source": [
    "# Check the number of samples correctly classified."
   ]
  },
  {
   "cell_type": "code",
   "execution_count": null,
   "metadata": {
    "colab": {
     "base_uri": "https://localhost:8080/"
    },
    "id": "UDVQoVawVnle",
    "outputId": "b139cce0-afcd-49ea-be1e-96770dc70213"
   },
   "outputs": [
    {
     "name": "stdout",
     "output_type": "stream",
     "text": [
      "Result: 63 out of 7050 samples were correctly labeled.\n"
     ]
    }
   ],
   "source": [
    "labels = kmeans.labels_\n",
    "\n",
    "# check how many of the samples were correctly labeled\n",
    "correct_labels = sum(y == labels)\n",
    "\n",
    "print(\"Result: %d out of %d samples were correctly labeled.\" % (correct_labels, y.size))"
   ]
  },
  {
   "cell_type": "markdown",
   "metadata": {
    "id": "VO5_amtZg_HW"
   },
   "source": [
    "# Check the accuracy of the KMean."
   ]
  },
  {
   "cell_type": "code",
   "execution_count": null,
   "metadata": {
    "id": "6KSmxUFFVqRw"
   },
   "outputs": [],
   "source": [
    "print('Accuracy score: {0:0.2f}'. format(correct_labels/float(y.size)))\n"
   ]
  },
  {
   "cell_type": "markdown",
   "metadata": {
    "id": "OqkCR9bChFkY"
   },
   "source": [
    "# Run KMeans for different cluster center numers 1-10 and plot inertia."
   ]
  },
  {
   "cell_type": "code",
   "execution_count": null,
   "metadata": {
    "id": "PmDZJARyVusP"
   },
   "outputs": [],
   "source": [
    "#\n",
    "# Your code to run K-Mean for k = 1-10 and plot number of clusters vs inertia results."
   ]
  },
  {
   "cell_type": "markdown",
   "metadata": {
    "id": "1-bjHQzfhX5f"
   },
   "source": [
    "# Develop the KMeans for K= 3 and check accuracy"
   ]
  },
  {
   "cell_type": "code",
   "execution_count": null,
   "metadata": {
    "id": "tX1l-Ol_WFAS"
   },
   "outputs": [],
   "source": [
    "#\n",
    "# Implement the KMeans for K=3 and check accuracy\n",
    "#"
   ]
  },
  {
   "cell_type": "markdown",
   "metadata": {
    "id": "M7AsA-YRhdD1"
   },
   "source": [
    "# Develop the KMean for k=4 and check accuracy."
   ]
  },
  {
   "cell_type": "code",
   "execution_count": null,
   "metadata": {
    "id": "-oWF_VwZWHjU"
   },
   "outputs": [],
   "source": [
    "#\n",
    "# Implement the Kmeans for K=4 and check accuracy\n",
    "#"
   ]
  },
  {
   "cell_type": "markdown",
   "metadata": {
    "id": "JwX5f0FImEg3"
   },
   "source": [
    "# **Lab Logbook requirement:** Document in your lab logbook, the optimal number of clusters for this problem."
   ]
  }
 ],
 "metadata": {
  "colab": {
   "provenance": []
  },
  "kernelspec": {
   "display_name": "Python 3 (ipykernel)",
   "language": "python",
   "name": "python3"
  },
  "language_info": {
   "codemirror_mode": {
    "name": "ipython",
    "version": 3
   },
   "file_extension": ".py",
   "mimetype": "text/x-python",
   "name": "python",
   "nbconvert_exporter": "python",
   "pygments_lexer": "ipython3",
   "version": "3.11.5"
  }
 },
 "nbformat": 4,
 "nbformat_minor": 1
}
